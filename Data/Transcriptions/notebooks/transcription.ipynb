{
 "cells": [
  {
   "cell_type": "code",
   "execution_count": null,
   "id": "77668ed3",
   "metadata": {},
   "outputs": [],
   "source": [
    "import whisper\n",
    "\n",
    "# Load model \n",
    "model = whisper.load_model(\"turbo\")\n",
    "\n",
    "# Path to audio file\n",
    "audio_path = \"/content/drive/MyDrive/EMMA_ES/2021_04_29_ANRZ__34676269661___EMMA_ES__.mp3\"\n",
    "\n",
    "# Transcribe full audio at once\n",
    "result = model.transcribe(audio_path, verbose=True)\n",
    "\n",
    "# Save to a text file\n",
    "with open(\"transcription.txt\", \"w\", encoding=\"utf-8\") as f:\n",
    "    f.write(result[\"text\"])"
   ]
  },
  {
   "cell_type": "code",
   "execution_count": null,
   "id": "02b8f093",
   "metadata": {},
   "outputs": [],
   "source": [
    "import os\n",
    "import whisper\n",
    "\n",
    "# Path to the folder containing audio files\n",
    "folder_path = \"/content/drive/MyDrive/EMMA_ES\"\n",
    "\n",
    "# Create a directory to save transcriptions\n",
    "transcriptions_folder = \"/content/EMMA_ES-TRANSCRIPTIONS\"\n",
    "os.makedirs(transcriptions_folder, exist_ok=True)\n",
    "\n",
    "try:\n",
    "    model\n",
    "except NameError:\n",
    "    model = whisper.load_model(\"turbo\") \n",
    "\n",
    "# List all files in the folder\n",
    "files = os.listdir(folder_path)\n",
    "\n",
    "# Iterate through each file\n",
    "for file_name in files:\n",
    "    # Construct the full file path\n",
    "    audio_path = os.path.join(folder_path, file_name)\n",
    "\n",
    "    # Check if it's a file and not a directory\n",
    "    if os.path.isfile(audio_path):\n",
    "        print(f\"Transcribing: {file_name}\")\n",
    "\n",
    "        try:\n",
    "            # Transcribe the audio file\n",
    "            result = model.transcribe(audio_path, verbose=True)\n",
    "\n",
    "            # Create a transcription file name\n",
    "            transcription_file_name = os.path.splitext(file_name)[0] + \".txt\"\n",
    "            transcription_file_path = os.path.join(transcriptions_folder, transcription_file_name)\n",
    "\n",
    "            # Save to a text file\n",
    "            with open(transcription_file_path, \"w\", encoding=\"utf-8\") as f:\n",
    "                f.write(result[\"text\"])\n",
    "\n",
    "            print(f\"Transcription saved to: {transcription_file_name}\")\n",
    "\n",
    "        except Exception as e:\n",
    "            print(f\"Error transcribing {file_name}: {e}\")"
   ]
  }
 ],
 "metadata": {
  "language_info": {
   "name": "python"
  }
 },
 "nbformat": 4,
 "nbformat_minor": 5
}
